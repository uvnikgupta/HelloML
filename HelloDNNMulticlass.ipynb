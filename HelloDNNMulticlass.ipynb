{
 "metadata": {
  "language_info": {
   "codemirror_mode": {
    "name": "ipython",
    "version": 3
   },
   "file_extension": ".py",
   "mimetype": "text/x-python",
   "name": "python",
   "nbconvert_exporter": "python",
   "pygments_lexer": "ipython3",
   "version": "3.9.5"
  },
  "orig_nbformat": 4,
  "kernelspec": {
   "name": "python3",
   "display_name": "Python 3.9.5 64-bit ('blis': conda)"
  },
  "interpreter": {
   "hash": "ef94d82f6a94bc6da5cce44ba2c149173d1f18c778c797ebcbf6812c049dc8dd"
  }
 },
 "nbformat": 4,
 "nbformat_minor": 2,
 "cells": [
  {
   "cell_type": "code",
   "execution_count": 1,
   "metadata": {},
   "outputs": [
    {
     "output_type": "stream",
     "name": "stdout",
     "text": [
      "              precision    recall  f1-score   support\n\n           0       1.00      1.00      1.00        14\n           1       0.90      1.00      0.95         9\n           2       1.00      0.86      0.92         7\n\n    accuracy                           0.97        30\n   macro avg       0.97      0.95      0.96        30\nweighted avg       0.97      0.97      0.97        30\n\n"
     ]
    }
   ],
   "source": [
    "import numpy as np\n",
    "from sklearn.datasets import load_iris\n",
    "from sklearn.model_selection import train_test_split\n",
    "from sklearn.metrics import classification_report\n",
    "from tensorflow.keras.utils import to_categorical\n",
    "from tensorflow.keras.models import Sequential\n",
    "from tensorflow.keras.layers import InputLayer, Dense\n",
    "\n",
    "x, y = load_iris()['data'], load_iris()['target']\n",
    "x_train, x_val, y_train, y_val = train_test_split(x, y, test_size=0.2, shuffle=True, random_state=2021)\n",
    "y_train = to_categorical(y_train)\n",
    "\n",
    "model = Sequential()\n",
    "model.add(InputLayer(input_shape=(x_train.shape[1],)))\n",
    "model.add(Dense(4, activation='relu'))\n",
    "model.add(Dense(y_train.shape[1], activation='softmax'))\n",
    "model.compile(optimizer='sgd', loss='categorical_crossentropy', metrics=['accuracy'])\n",
    "model.fit(x_train, y_train, batch_size=32, epochs=500, verbose=0)\n",
    "\n",
    "predictions = np.argmax(model.predict(x_val), axis=-1)\n",
    "print(classification_report(predictions, y_val, zero_division=1))"
   ]
  }
 ]
}