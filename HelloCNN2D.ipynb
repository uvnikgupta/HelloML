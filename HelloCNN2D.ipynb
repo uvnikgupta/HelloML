{
 "metadata": {
  "language_info": {
   "codemirror_mode": {
    "name": "ipython",
    "version": 3
   },
   "file_extension": ".py",
   "mimetype": "text/x-python",
   "name": "python",
   "nbconvert_exporter": "python",
   "pygments_lexer": "ipython3",
   "version": "3.9.5"
  },
  "orig_nbformat": 4,
  "kernelspec": {
   "name": "python3",
   "display_name": "Python 3.9.5 64-bit ('blis': conda)"
  },
  "interpreter": {
   "hash": "ef94d82f6a94bc6da5cce44ba2c149173d1f18c778c797ebcbf6812c049dc8dd"
  }
 },
 "nbformat": 4,
 "nbformat_minor": 2,
 "cells": [
  {
   "cell_type": "code",
   "execution_count": 1,
   "metadata": {},
   "outputs": [
    {
     "output_type": "stream",
     "name": "stdout",
     "text": [
      "              precision    recall  f1-score   support\n\n           0       0.99      0.97      0.98       997\n           1       0.98      0.99      0.98      1116\n           2       0.96      0.96      0.96      1029\n           3       0.97      0.96      0.96      1022\n           4       0.98      0.96      0.97      1003\n           5       0.97      0.97      0.97       891\n           6       0.97      0.99      0.98       946\n           7       0.95      0.98      0.96      1005\n           8       0.95      0.95      0.95       982\n           9       0.95      0.95      0.95      1009\n\n    accuracy                           0.97     10000\n   macro avg       0.97      0.97      0.97     10000\nweighted avg       0.97      0.97      0.97     10000\n\n"
     ]
    }
   ],
   "source": [
    "import numpy as np\n",
    "from sklearn.metrics import classification_report\n",
    "from tensorflow.keras.utils import to_categorical\n",
    "from tensorflow.keras.datasets import mnist\n",
    "from tensorflow.keras.models import Sequential\n",
    "from tensorflow.keras.layers import InputLayer, Dense, Conv1D, Dropout, Flatten, MaxPooling1D\n",
    "\n",
    "(x_train, y_train), (x_val, y_val) = mnist.load_data()\n",
    "y_train = to_categorical(y_train, 10)\n",
    "\n",
    "model = Sequential()\n",
    "model.add(InputLayer(input_shape=x_train.shape[1:]))\n",
    "model.add(Conv1D(32, kernel_size=(3,), activation='relu'))\n",
    "model.add(MaxPooling1D(pool_size=(2,)))\n",
    "model.add(Flatten())\n",
    "model.add(Dense(y_train.shape[1], activation='softmax'))\n",
    "model.compile(optimizer='adam', loss='categorical_crossentropy', metrics=['accuracy'])\n",
    "model.fit(x_train, y_train, batch_size=128, epochs=10, verbose=0, shuffle=True)\n",
    "\n",
    "predictions = np.argmax(model.predict(x_val), axis=-1)\n",
    "print(classification_report(predictions, y_val))"
   ]
  }
 ]
}