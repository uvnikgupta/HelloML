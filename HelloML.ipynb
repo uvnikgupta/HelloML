{
 "metadata": {
  "language_info": {
   "codemirror_mode": {
    "name": "ipython",
    "version": 3
   },
   "file_extension": ".py",
   "mimetype": "text/x-python",
   "name": "python",
   "nbconvert_exporter": "python",
   "pygments_lexer": "ipython3",
   "version": "3.9.5"
  },
  "orig_nbformat": 4,
  "kernelspec": {
   "name": "python3",
   "display_name": "Python 3.9.5 64-bit ('blis': conda)"
  },
  "interpreter": {
   "hash": "ef94d82f6a94bc6da5cce44ba2c149173d1f18c778c797ebcbf6812c049dc8dd"
  }
 },
 "nbformat": 4,
 "nbformat_minor": 2,
 "cells": [
  {
   "cell_type": "code",
   "execution_count": 1,
   "metadata": {},
   "outputs": [
    {
     "output_type": "stream",
     "name": "stdout",
     "text": [
      "              precision    recall  f1-score   support\n\n           0       1.00      1.00      1.00        14\n           1       0.83      1.00      0.91        10\n           2       1.00      0.67      0.80         6\n\n    accuracy                           0.93        30\n   macro avg       0.94      0.89      0.90        30\nweighted avg       0.94      0.93      0.93        30\n\n"
     ]
    }
   ],
   "source": [
    "from sklearn.datasets import load_iris\n",
    "from sklearn.tree import DecisionTreeClassifier\n",
    "from sklearn.model_selection import train_test_split\n",
    "from sklearn.metrics import classification_report\n",
    "\n",
    "x = load_iris()['data']\n",
    "y = load_iris()['target']\n",
    "\n",
    "x_train, x_val, y_train, y_val = train_test_split(x, y, test_size=0.2, shuffle=True, random_state=2021)\n",
    "model = DecisionTreeClassifier()\n",
    "model.fit(x_train, y_train)\n",
    "\n",
    "predictions = model.predict(x_val)\n",
    "print(classification_report(y_val, predictions))"
   ]
  }
 ]
}