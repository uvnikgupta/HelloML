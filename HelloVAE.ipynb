{
 "cells": [
  {
   "cell_type": "code",
   "execution_count": 1,
   "metadata": {},
   "outputs": [],
   "source": [
    "import numpy as np\n",
    "import matplotlib.pyplot as plt\n",
    "from scipy.stats import norm\n",
    "\n",
    "import tensorflow as tf\n",
    "from tensorflow.keras import backend as K\n",
    "from tensorflow.keras.layers import Input, Dense, Lambda\n",
    "from tensorflow.keras.models import Model\n",
    "from tensorflow.keras.datasets import mnist\n",
    "\n",
    "(x_train, _), (x_test, y_test) = mnist.load_data()\n",
    "x_train, x_test = x_train.astype('float32')/255., x_test.astype('float32')/255.\n",
    "\n",
    "x_train = x_train.reshape((len(x_train), np.prod(x_train.shape[1:])))\n",
    "x_test = x_test.reshape((len(x_test), np.prod(x_test.shape[1:])))"
   ]
  },
  {
   "cell_type": "code",
   "execution_count": 2,
   "metadata": {},
   "outputs": [],
   "source": [
    "def sampling(args):\n",
    "    z_mean, z_log_var = args\n",
    "    epsilon = K.random_normal(shape=K.shape(z_mean))\n",
    "    return z_mean + K.exp(z_log_var / 2) * epsilon"
   ]
  },
  {
   "cell_type": "code",
   "execution_count": 3,
   "metadata": {},
   "outputs": [],
   "source": [
    "x = Input(shape=(x_train.shape[1],))\n",
    "x1 = Dense(x_train.shape[1]//2, activation='relu')(x)\n",
    "x2 = Dense(x_train.shape[1]//3, activation='relu')(x1)\n",
    "h = Dense(x_train.shape[1]//4, activation='relu')(x2)\n",
    "z_mean = Dense(2)(h)\n",
    "z_log_var = Dense(2)(h)\n",
    "z = Lambda(sampling, output_shape=(2,))([z_mean, z_log_var])\n",
    "\n",
    "decoder_h = Dense(x_train.shape[1]//4, activation='relu')\n",
    "dc1 = Dense(x_train.shape[1]//3, activation='relu')\n",
    "dc2 = Dense(x_train.shape[1]//2, activation='relu')\n",
    "\n",
    "h_decoded = decoder_h(z)\n",
    "h_decoded = dc1(h_decoded)\n",
    "h_decoded = dc2(h_decoded)\n",
    "\n",
    "decoder_mean = Dense(x_train.shape[1], activation='sigmoid')\n",
    "x_decoded_mean = decoder_mean(h_decoded)\n",
    "\n",
    "xent_loss = K.sum(K.binary_crossentropy(x, x_decoded_mean), axis=-1)\n",
    "kl_loss = - 0.5 * K.sum(1 + z_log_var - K.square(z_mean) - K.exp(z_log_var), axis=-1)\n",
    "vae_loss = K.mean(xent_loss + kl_loss)"
   ]
  },
  {
   "cell_type": "code",
   "execution_count": null,
   "metadata": {},
   "outputs": [],
   "source": [
    "vae = Model(x, x_decoded_mean)\n",
    "vae.add_loss(vae_loss)\n",
    "vae.compile(optimizer=tf.keras.optimizers.Adam(amsgrad=True))\n",
    "vae.fit(x_train, shuffle=True, epochs=5, batch_size=32, validation_data=(x_test, None), verbose=0);"
   ]
  },
  {
   "cell_type": "code",
   "execution_count": null,
   "metadata": {},
   "outputs": [],
   "source": [
    "decoder_input = Input(shape=(2,))\n",
    "_h_decoded = decoder_h(decoder_input)\n",
    "_h_decoded = dc1(_h_decoded)\n",
    "_h_decoded = dc2(_h_decoded)\n",
    "_x_decoded_mean = decoder_mean(_h_decoded)\n",
    "generator = Model(decoder_input, _x_decoded_mean)\n",
    "\n",
    "n = 10 \n",
    "digit_size = 28\n",
    "figure = np.zeros((digit_size * n, digit_size * n))\n",
    "grid_x = np.linspace(-2, 2, n)\n",
    "grid_y = np.linspace(-2, 2, n)\n",
    "\n",
    "for i, yi in enumerate(grid_x):\n",
    "    for j, xi in enumerate(grid_y):\n",
    "        z_sample = np.array([[xi, yi]]) * 1.0\n",
    "        x_decoded = generator.predict(z_sample)\n",
    "        digit = x_decoded[0].reshape(digit_size, digit_size)\n",
    "        figure[i * digit_size: (i + 1) * digit_size,\n",
    "               j * digit_size: (j + 1) * digit_size] = digit\n",
    "\n",
    "plt.figure(figsize=(6, 6))\n",
    "plt.imshow(figure);"
   ]
  }
 ],
 "metadata": {
  "kernelspec": {
   "display_name": "Python 3",
   "language": "python",
   "name": "python3"
  },
  "language_info": {
   "codemirror_mode": {
    "name": "ipython",
    "version": 3
   },
   "file_extension": ".py",
   "mimetype": "text/x-python",
   "name": "python",
   "nbconvert_exporter": "python",
   "pygments_lexer": "ipython3",
   "version": "3.6.8"
  }
 },
 "nbformat": 4,
 "nbformat_minor": 4
}
